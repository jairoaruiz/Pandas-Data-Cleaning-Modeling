{
 "cells": [
  {
   "cell_type": "code",
   "execution_count": 12,
   "metadata": {},
   "outputs": [],
   "source": [
    "import pandas as pd\n",
    "import statsmodels\n",
    "import statsmodels.api as sm\n",
    "import statsmodels.formula.api as smf\n",
    "import seaborn as sns\n",
    "import matplotlib.pyplot as plt\n",
    "from scipy import stats"
   ]
  },
  {
   "cell_type": "code",
   "execution_count": 4,
   "metadata": {
    "scrolled": true
   },
   "outputs": [
    {
     "data": {
      "text/html": [
       "<div>\n",
       "<style scoped>\n",
       "    .dataframe tbody tr th:only-of-type {\n",
       "        vertical-align: middle;\n",
       "    }\n",
       "\n",
       "    .dataframe tbody tr th {\n",
       "        vertical-align: top;\n",
       "    }\n",
       "\n",
       "    .dataframe thead th {\n",
       "        text-align: right;\n",
       "    }\n",
       "</style>\n",
       "<table border=\"1\" class=\"dataframe\">\n",
       "  <thead>\n",
       "    <tr style=\"text-align: right;\">\n",
       "      <th></th>\n",
       "      <th>neighborhood</th>\n",
       "      <th>type</th>\n",
       "      <th>units</th>\n",
       "      <th>year_built</th>\n",
       "      <th>sq_ft</th>\n",
       "      <th>income</th>\n",
       "      <th>income_per_sq_ft</th>\n",
       "      <th>expense</th>\n",
       "      <th>expense_per_sq_ft</th>\n",
       "      <th>net_income</th>\n",
       "      <th>value</th>\n",
       "      <th>value_per_sq_ft</th>\n",
       "      <th>boro</th>\n",
       "    </tr>\n",
       "  </thead>\n",
       "  <tbody>\n",
       "    <tr>\n",
       "      <th>0</th>\n",
       "      <td>FINANCIAL</td>\n",
       "      <td>R9-CONDOMINIUM</td>\n",
       "      <td>42</td>\n",
       "      <td>1920.0</td>\n",
       "      <td>36500</td>\n",
       "      <td>1332615</td>\n",
       "      <td>36.51</td>\n",
       "      <td>342005</td>\n",
       "      <td>9.37</td>\n",
       "      <td>990610</td>\n",
       "      <td>7300000</td>\n",
       "      <td>200.00</td>\n",
       "      <td>Manhattan</td>\n",
       "    </tr>\n",
       "    <tr>\n",
       "      <th>1</th>\n",
       "      <td>FINANCIAL</td>\n",
       "      <td>R4-CONDOMINIUM</td>\n",
       "      <td>78</td>\n",
       "      <td>1985.0</td>\n",
       "      <td>126420</td>\n",
       "      <td>6633257</td>\n",
       "      <td>52.47</td>\n",
       "      <td>1762295</td>\n",
       "      <td>13.94</td>\n",
       "      <td>4870962</td>\n",
       "      <td>30690000</td>\n",
       "      <td>242.76</td>\n",
       "      <td>Manhattan</td>\n",
       "    </tr>\n",
       "    <tr>\n",
       "      <th>2</th>\n",
       "      <td>FINANCIAL</td>\n",
       "      <td>RR-CONDOMINIUM</td>\n",
       "      <td>500</td>\n",
       "      <td>NaN</td>\n",
       "      <td>554174</td>\n",
       "      <td>17310000</td>\n",
       "      <td>31.24</td>\n",
       "      <td>3543000</td>\n",
       "      <td>6.39</td>\n",
       "      <td>13767000</td>\n",
       "      <td>90970000</td>\n",
       "      <td>164.15</td>\n",
       "      <td>Manhattan</td>\n",
       "    </tr>\n",
       "    <tr>\n",
       "      <th>3</th>\n",
       "      <td>FINANCIAL</td>\n",
       "      <td>R4-CONDOMINIUM</td>\n",
       "      <td>282</td>\n",
       "      <td>1930.0</td>\n",
       "      <td>249076</td>\n",
       "      <td>11776313</td>\n",
       "      <td>47.28</td>\n",
       "      <td>2784670</td>\n",
       "      <td>11.18</td>\n",
       "      <td>8991643</td>\n",
       "      <td>67556006</td>\n",
       "      <td>271.23</td>\n",
       "      <td>Manhattan</td>\n",
       "    </tr>\n",
       "    <tr>\n",
       "      <th>4</th>\n",
       "      <td>TRIBECA</td>\n",
       "      <td>R4-CONDOMINIUM</td>\n",
       "      <td>239</td>\n",
       "      <td>1985.0</td>\n",
       "      <td>219495</td>\n",
       "      <td>10004582</td>\n",
       "      <td>45.58</td>\n",
       "      <td>2783197</td>\n",
       "      <td>12.68</td>\n",
       "      <td>7221385</td>\n",
       "      <td>54320996</td>\n",
       "      <td>247.48</td>\n",
       "      <td>Manhattan</td>\n",
       "    </tr>\n",
       "  </tbody>\n",
       "</table>\n",
       "</div>"
      ],
      "text/plain": [
       "  neighborhood            type  units  year_built   sq_ft    income  \\\n",
       "0    FINANCIAL  R9-CONDOMINIUM     42      1920.0   36500   1332615   \n",
       "1    FINANCIAL  R4-CONDOMINIUM     78      1985.0  126420   6633257   \n",
       "2    FINANCIAL  RR-CONDOMINIUM    500         NaN  554174  17310000   \n",
       "3    FINANCIAL  R4-CONDOMINIUM    282      1930.0  249076  11776313   \n",
       "4      TRIBECA  R4-CONDOMINIUM    239      1985.0  219495  10004582   \n",
       "\n",
       "   income_per_sq_ft  expense  expense_per_sq_ft  net_income     value  \\\n",
       "0             36.51   342005               9.37      990610   7300000   \n",
       "1             52.47  1762295              13.94     4870962  30690000   \n",
       "2             31.24  3543000               6.39    13767000  90970000   \n",
       "3             47.28  2784670              11.18     8991643  67556006   \n",
       "4             45.58  2783197              12.68     7221385  54320996   \n",
       "\n",
       "   value_per_sq_ft       boro  \n",
       "0           200.00  Manhattan  \n",
       "1           242.76  Manhattan  \n",
       "2           164.15  Manhattan  \n",
       "3           271.23  Manhattan  \n",
       "4           247.48  Manhattan  "
      ]
     },
     "execution_count": 4,
     "metadata": {},
     "output_type": "execute_result"
    }
   ],
   "source": [
    "housing = pd.read_csv('./housing_renamed.csv')\n",
    "housing.head()"
   ]
  },
  {
   "cell_type": "code",
   "execution_count": 5,
   "metadata": {},
   "outputs": [],
   "source": [
    "house1 = smf.glm('value_per_sq_ft ~ units + sq_ft + boro', data=housing).fit()"
   ]
  },
  {
   "cell_type": "code",
   "execution_count": 6,
   "metadata": {},
   "outputs": [
    {
     "data": {
      "text/html": [
       "<table class=\"simpletable\">\n",
       "<tr>\n",
       "        <td>Model:</td>               <td>GLM</td>            <td>AIC:</td>        <td>27256.0311</td> \n",
       "</tr>\n",
       "<tr>\n",
       "    <td>Link Function:</td>        <td>identity</td>          <td>BIC:</td>       <td>4901769.4219</td>\n",
       "</tr>\n",
       "<tr>\n",
       "  <td>Dependent Variable:</td>  <td>value_per_sq_ft</td> <td>Log-Likelihood:</td>    <td>-13621.</td>  \n",
       "</tr>\n",
       "<tr>\n",
       "         <td>Date:</td>        <td>2018-04-16 16:05</td>    <td>LL-Null:</td>        <td>-14827.</td>  \n",
       "</tr>\n",
       "<tr>\n",
       "   <td>No. Observations:</td>        <td>2626</td>          <td>Deviance:</td>     <td>4.9224e+06</td> \n",
       "</tr>\n",
       "<tr>\n",
       "       <td>Df Model:</td>              <td>6</td>         <td>Pearson chi2:</td>    <td>4.92e+06</td>  \n",
       "</tr>\n",
       "<tr>\n",
       "     <td>Df Residuals:</td>          <td>2619</td>           <td>Scale:</td>         <td>1879.5</td>   \n",
       "</tr>\n",
       "<tr>\n",
       "        <td>Method:</td>             <td>IRLS</td>              <td></td>               <td></td>      \n",
       "</tr>\n",
       "</table>\n",
       "<table class=\"simpletable\">\n",
       "<tr>\n",
       "            <td></td>              <th>Coef.</th>  <th>Std.Err.</th>    <th>z</th>     <th>P>|z|</th>  <th>[0.025</th>   <th>0.975]</th> \n",
       "</tr>\n",
       "<tr>\n",
       "  <th>Intercept</th>              <td>43.2909</td>  <td>5.3299</td>  <td>8.1223</td>  <td>0.0000</td>  <td>32.8445</td>  <td>53.7372</td>\n",
       "</tr>\n",
       "<tr>\n",
       "  <th>boro[T.Brooklyn]</th>       <td>34.5621</td>  <td>5.5351</td>  <td>6.2442</td>  <td>0.0000</td>  <td>23.7136</td>  <td>45.4107</td>\n",
       "</tr>\n",
       "<tr>\n",
       "  <th>boro[T.Manhattan]</th>     <td>130.9924</td>  <td>5.3846</td>  <td>24.3271</td> <td>0.0000</td> <td>120.4387</td> <td>141.5461</td>\n",
       "</tr>\n",
       "<tr>\n",
       "  <th>boro[T.Queens]</th>         <td>32.9937</td>  <td>5.6626</td>  <td>5.8266</td>  <td>0.0000</td>  <td>21.8953</td>  <td>44.0921</td>\n",
       "</tr>\n",
       "<tr>\n",
       "  <th>boro[T.Staten Island]</th>  <td>-3.6303</td>  <td>9.9930</td>  <td>-0.3633</td> <td>0.7164</td> <td>-23.2161</td>  <td>15.9556</td>\n",
       "</tr>\n",
       "<tr>\n",
       "  <th>units</th>                  <td>-0.1881</td>  <td>0.0221</td>  <td>-8.5113</td> <td>0.0000</td>  <td>-0.2314</td>  <td>-0.1448</td>\n",
       "</tr>\n",
       "<tr>\n",
       "  <th>sq_ft</th>                  <td>0.0002</td>   <td>0.0000</td>  <td>10.0785</td> <td>0.0000</td>  <td>0.0002</td>   <td>0.0003</td> \n",
       "</tr>\n",
       "</table>"
      ],
      "text/plain": [
       "<class 'statsmodels.iolib.summary2.Summary'>\n",
       "\"\"\"\n",
       "                   Results: Generalized linear model\n",
       "========================================================================\n",
       "Model:                 GLM                AIC:              27256.0311  \n",
       "Link Function:         identity           BIC:              4901769.4219\n",
       "Dependent Variable:    value_per_sq_ft    Log-Likelihood:   -13621.     \n",
       "Date:                  2018-04-16 16:05   LL-Null:          -14827.     \n",
       "No. Observations:      2626               Deviance:         4.9224e+06  \n",
       "Df Model:              6                  Pearson chi2:     4.92e+06    \n",
       "Df Residuals:          2619               Scale:            1879.5      \n",
       "Method:                IRLS                                             \n",
       "------------------------------------------------------------------------\n",
       "                       Coef.   Std.Err.    z    P>|z|   [0.025   0.975] \n",
       "------------------------------------------------------------------------\n",
       "Intercept              43.2909   5.3299  8.1223 0.0000  32.8445  53.7372\n",
       "boro[T.Brooklyn]       34.5621   5.5351  6.2442 0.0000  23.7136  45.4107\n",
       "boro[T.Manhattan]     130.9924   5.3846 24.3271 0.0000 120.4387 141.5461\n",
       "boro[T.Queens]         32.9937   5.6626  5.8266 0.0000  21.8953  44.0921\n",
       "boro[T.Staten Island]  -3.6303   9.9930 -0.3633 0.7164 -23.2161  15.9556\n",
       "units                  -0.1881   0.0221 -8.5113 0.0000  -0.2314  -0.1448\n",
       "sq_ft                   0.0002   0.0000 10.0785 0.0000   0.0002   0.0003\n",
       "========================================================================\n",
       "\n",
       "\"\"\""
      ]
     },
     "execution_count": 6,
     "metadata": {},
     "output_type": "execute_result"
    }
   ],
   "source": [
    "house1.summary2()"
   ]
  },
  {
   "cell_type": "code",
   "execution_count": 8,
   "metadata": {},
   "outputs": [
    {
     "data": {
      "text/plain": [
       "<matplotlib.axes._subplots.AxesSubplot at 0x7f7cb6993eb8>"
      ]
     },
     "execution_count": 8,
     "metadata": {},
     "output_type": "execute_result"
    },
    {
     "data": {
      "image/png": "[encoded data removed]",
      "text/plain": [
       "<matplotlib.figure.Figure at 0x7f7cb66c5e10>"
      ]
     },
     "metadata": {},
     "output_type": "display_data"
    }
   ],
   "source": [
    "sns.regplot(x=house1.fittedvalues, y=house1.resid_deviance, fit_reg=False)"
   ]
  },
  {
   "cell_type": "code",
   "execution_count": 9,
   "metadata": {},
   "outputs": [],
   "source": [
    "res_df = pd.DataFrame({'fitted_values':house1.fittedvalues, 'resid_deviance':house1.resid_deviance, 'boro':housing['boro']})"
   ]
  },
  {
   "cell_type": "code",
   "execution_count": 10,
   "metadata": {},
   "outputs": [
    {
     "data": {
      "text/html": [
       "<div>\n",
       "<style scoped>\n",
       "    .dataframe tbody tr th:only-of-type {\n",
       "        vertical-align: middle;\n",
       "    }\n",
       "\n",
       "    .dataframe tbody tr th {\n",
       "        vertical-align: top;\n",
       "    }\n",
       "\n",
       "    .dataframe thead th {\n",
       "        text-align: right;\n",
       "    }\n",
       "</style>\n",
       "<table border=\"1\" class=\"dataframe\">\n",
       "  <thead>\n",
       "    <tr style=\"text-align: right;\">\n",
       "      <th></th>\n",
       "      <th>boro</th>\n",
       "      <th>fitted_values</th>\n",
       "      <th>resid_deviance</th>\n",
       "    </tr>\n",
       "  </thead>\n",
       "  <tbody>\n",
       "    <tr>\n",
       "      <th>0</th>\n",
       "      <td>Manhattan</td>\n",
       "      <td>174.059177</td>\n",
       "      <td>25.940823</td>\n",
       "    </tr>\n",
       "    <tr>\n",
       "      <th>1</th>\n",
       "      <td>Manhattan</td>\n",
       "      <td>186.199265</td>\n",
       "      <td>56.560735</td>\n",
       "    </tr>\n",
       "    <tr>\n",
       "      <th>2</th>\n",
       "      <td>Manhattan</td>\n",
       "      <td>196.781144</td>\n",
       "      <td>-32.631144</td>\n",
       "    </tr>\n",
       "    <tr>\n",
       "      <th>3</th>\n",
       "      <td>Manhattan</td>\n",
       "      <td>173.621149</td>\n",
       "      <td>97.608851</td>\n",
       "    </tr>\n",
       "    <tr>\n",
       "      <th>4</th>\n",
       "      <td>Manhattan</td>\n",
       "      <td>175.488537</td>\n",
       "      <td>71.991463</td>\n",
       "    </tr>\n",
       "  </tbody>\n",
       "</table>\n",
       "</div>"
      ],
      "text/plain": [
       "        boro  fitted_values  resid_deviance\n",
       "0  Manhattan     174.059177       25.940823\n",
       "1  Manhattan     186.199265       56.560735\n",
       "2  Manhattan     196.781144      -32.631144\n",
       "3  Manhattan     173.621149       97.608851\n",
       "4  Manhattan     175.488537       71.991463"
      ]
     },
     "execution_count": 10,
     "metadata": {},
     "output_type": "execute_result"
    }
   ],
   "source": [
    "res_df.head()"
   ]
  },
  {
   "cell_type": "code",
   "execution_count": 11,
   "metadata": {},
   "outputs": [
    {
     "data": {
      "text/plain": [
       "<seaborn.axisgrid.FacetGrid at 0x7f7cb65c3a20>"
      ]
     },
     "execution_count": 11,
     "metadata": {},
     "output_type": "execute_result"
    },
    {
     "data": {
      "image/png": "[encoded data removed]",
      "text/plain": [
       "<matplotlib.figure.Figure at 0x7f7cb6327e10>"
      ]
     },
     "metadata": {},
     "output_type": "display_data"
    }
   ],
   "source": [
    "sns.lmplot(x='fitted_values', y='resid_deviance', data=res_df, hue='boro',fit_reg=False)"
   ]
  },
  {
   "cell_type": "code",
   "execution_count": 13,
   "metadata": {},
   "outputs": [],
   "source": [
    "resid = house1.resid_deviance.copy()"
   ]
  },
  {
   "cell_type": "code",
   "execution_count": 14,
   "metadata": {},
   "outputs": [],
   "source": [
    "resid_std = stats.zscore(resid)"
   ]
  },
  {
   "cell_type": "code",
   "execution_count": 15,
   "metadata": {},
   "outputs": [
    {
     "data": {
      "image/png": "[encoded data removed]",
      "text/plain": [
       "<matplotlib.figure.Figure at 0x7f7cb66cc5f8>"
      ]
     },
     "execution_count": 15,
     "metadata": {},
     "output_type": "execute_result"
    },
    {
     "data": {
      "image/png": "[encoded data removed]",
      "text/plain": [
       "<matplotlib.figure.Figure at 0x7f7cb66cc5f8>"
      ]
     },
     "metadata": {},
     "output_type": "display_data"
    }
   ],
   "source": [
    "statsmodels.graphics.gofplots.qqplot(resid,line='r')"
   ]
  },
  {
   "cell_type": "code",
   "execution_count": 16,
   "metadata": {},
   "outputs": [
    {
     "data": {
      "text/plain": [
       "<matplotlib.axes._subplots.AxesSubplot at 0x7f7cb5fde4a8>"
      ]
     },
     "execution_count": 16,
     "metadata": {},
     "output_type": "execute_result"
    },
    {
     "data": {
      "image/png": "[encoded data removed]",
      "text/plain": [
       "<matplotlib.figure.Figure at 0x7f7cb501c2e8>"
      ]
     },
     "metadata": {},
     "output_type": "display_data"
    }
   ],
   "source": [
    "sns.distplot(resid_std)"
   ]
  },
  {
   "cell_type": "code",
   "execution_count": 17,
   "metadata": {},
   "outputs": [],
   "source": [
    "f1 = 'value_per_sq_ft ~ units + sq_ft + boro'\n",
    "f2 = 'value_per_sq_ft ~ units * sq_ft + boro'\n",
    "f3 = 'value_per_sq_ft ~ units + sq_ft * boro + type'\n",
    "f4 = 'value_per_sq_ft ~ units + sq_ft * boro + sq_ft * type '\n",
    "f5 = 'value_per_sq_ft ~ boro + type'"
   ]
  },
  {
   "cell_type": "code",
   "execution_count": 18,
   "metadata": {},
   "outputs": [],
   "source": [
    "house1 = smf.ols(f1, data=housing).fit()\n",
    "house2 = smf.ols(f2, data=housing).fit()\n",
    "house3 = smf.ols(f3, data=housing).fit()\n",
    "house4 = smf.ols(f4, data=housing).fit()\n",
    "house5 = smf.ols(f5, data=housing).fit()"
   ]
  },
  {
   "cell_type": "code",
   "execution_count": 19,
   "metadata": {},
   "outputs": [
    {
     "data": {
      "text/html": [
       "<div>\n",
       "<style scoped>\n",
       "    .dataframe tbody tr th:only-of-type {\n",
       "        vertical-align: middle;\n",
       "    }\n",
       "\n",
       "    .dataframe tbody tr th {\n",
       "        vertical-align: top;\n",
       "    }\n",
       "\n",
       "    .dataframe thead th {\n",
       "        text-align: right;\n",
       "    }\n",
       "</style>\n",
       "<table border=\"1\" class=\"dataframe\">\n",
       "  <thead>\n",
       "    <tr style=\"text-align: right;\">\n",
       "      <th></th>\n",
       "      <th>0</th>\n",
       "      <th>1</th>\n",
       "      <th>2</th>\n",
       "      <th>3</th>\n",
       "      <th>4</th>\n",
       "    </tr>\n",
       "  </thead>\n",
       "  <tbody>\n",
       "    <tr>\n",
       "      <th>Intercept</th>\n",
       "      <td>43.290863</td>\n",
       "      <td>4.445184e+01</td>\n",
       "      <td>40.232692</td>\n",
       "      <td>42.925158</td>\n",
       "      <td>38.355879</td>\n",
       "    </tr>\n",
       "    <tr>\n",
       "      <th>boro[T.Brooklyn]</th>\n",
       "      <td>34.562150</td>\n",
       "      <td>3.231498e+01</td>\n",
       "      <td>28.439269</td>\n",
       "      <td>27.597639</td>\n",
       "      <td>28.230904</td>\n",
       "    </tr>\n",
       "    <tr>\n",
       "      <th>boro[T.Manhattan]</th>\n",
       "      <td>130.992363</td>\n",
       "      <td>1.270989e+02</td>\n",
       "      <td>115.711927</td>\n",
       "      <td>114.434920</td>\n",
       "      <td>126.801446</td>\n",
       "    </tr>\n",
       "    <tr>\n",
       "      <th>boro[T.Queens]</th>\n",
       "      <td>32.993674</td>\n",
       "      <td>2.979932e+01</td>\n",
       "      <td>28.553233</td>\n",
       "      <td>27.068852</td>\n",
       "      <td>25.162108</td>\n",
       "    </tr>\n",
       "    <tr>\n",
       "      <th>boro[T.Staten Island]</th>\n",
       "      <td>-3.630251</td>\n",
       "      <td>-7.542656e+00</td>\n",
       "      <td>-15.640961</td>\n",
       "      <td>-15.941330</td>\n",
       "      <td>-16.950990</td>\n",
       "    </tr>\n",
       "    <tr>\n",
       "      <th>sq_ft</th>\n",
       "      <td>0.000210</td>\n",
       "      <td>2.077865e-04</td>\n",
       "      <td>0.000096</td>\n",
       "      <td>-0.000011</td>\n",
       "      <td>NaN</td>\n",
       "    </tr>\n",
       "    <tr>\n",
       "      <th>sq_ft:boro[T.Brooklyn]</th>\n",
       "      <td>NaN</td>\n",
       "      <td>NaN</td>\n",
       "      <td>-0.000041</td>\n",
       "      <td>-0.000032</td>\n",
       "      <td>NaN</td>\n",
       "    </tr>\n",
       "    <tr>\n",
       "      <th>sq_ft:boro[T.Manhattan]</th>\n",
       "      <td>NaN</td>\n",
       "      <td>NaN</td>\n",
       "      <td>0.000084</td>\n",
       "      <td>0.000100</td>\n",
       "      <td>NaN</td>\n",
       "    </tr>\n",
       "    <tr>\n",
       "      <th>sq_ft:boro[T.Queens]</th>\n",
       "      <td>NaN</td>\n",
       "      <td>NaN</td>\n",
       "      <td>-0.000064</td>\n",
       "      <td>-0.000040</td>\n",
       "      <td>NaN</td>\n",
       "    </tr>\n",
       "    <tr>\n",
       "      <th>sq_ft:boro[T.Staten Island]</th>\n",
       "      <td>NaN</td>\n",
       "      <td>NaN</td>\n",
       "      <td>-0.000017</td>\n",
       "      <td>-0.000016</td>\n",
       "      <td>NaN</td>\n",
       "    </tr>\n",
       "    <tr>\n",
       "      <th>sq_ft:type[T.R4-CONDOMINIUM]</th>\n",
       "      <td>NaN</td>\n",
       "      <td>NaN</td>\n",
       "      <td>NaN</td>\n",
       "      <td>0.000085</td>\n",
       "      <td>NaN</td>\n",
       "    </tr>\n",
       "    <tr>\n",
       "      <th>sq_ft:type[T.R9-CONDOMINIUM]</th>\n",
       "      <td>NaN</td>\n",
       "      <td>NaN</td>\n",
       "      <td>NaN</td>\n",
       "      <td>-0.000008</td>\n",
       "      <td>NaN</td>\n",
       "    </tr>\n",
       "    <tr>\n",
       "      <th>sq_ft:type[T.RR-CONDOMINIUM]</th>\n",
       "      <td>NaN</td>\n",
       "      <td>NaN</td>\n",
       "      <td>NaN</td>\n",
       "      <td>0.000163</td>\n",
       "      <td>NaN</td>\n",
       "    </tr>\n",
       "    <tr>\n",
       "      <th>type[T.R4-CONDOMINIUM]</th>\n",
       "      <td>NaN</td>\n",
       "      <td>NaN</td>\n",
       "      <td>19.185899</td>\n",
       "      <td>16.767570</td>\n",
       "      <td>20.457035</td>\n",
       "    </tr>\n",
       "    <tr>\n",
       "      <th>type[T.R9-CONDOMINIUM]</th>\n",
       "      <td>NaN</td>\n",
       "      <td>NaN</td>\n",
       "      <td>0.702320</td>\n",
       "      <td>9.370081</td>\n",
       "      <td>1.293322</td>\n",
       "    </tr>\n",
       "    <tr>\n",
       "      <th>type[T.RR-CONDOMINIUM]</th>\n",
       "      <td>NaN</td>\n",
       "      <td>NaN</td>\n",
       "      <td>-14.507110</td>\n",
       "      <td>-29.584825</td>\n",
       "      <td>-11.680515</td>\n",
       "    </tr>\n",
       "    <tr>\n",
       "      <th>units</th>\n",
       "      <td>-0.188115</td>\n",
       "      <td>-1.478411e-01</td>\n",
       "      <td>-0.105444</td>\n",
       "      <td>-0.083371</td>\n",
       "      <td>NaN</td>\n",
       "    </tr>\n",
       "    <tr>\n",
       "      <th>units:sq_ft</th>\n",
       "      <td>NaN</td>\n",
       "      <td>-2.255855e-08</td>\n",
       "      <td>NaN</td>\n",
       "      <td>NaN</td>\n",
       "      <td>NaN</td>\n",
       "    </tr>\n",
       "  </tbody>\n",
       "</table>\n",
       "</div>"
      ],
      "text/plain": [
       "                                       0             1           2  \\\n",
       "Intercept                      43.290863  4.445184e+01   40.232692   \n",
       "boro[T.Brooklyn]               34.562150  3.231498e+01   28.439269   \n",
       "boro[T.Manhattan]             130.992363  1.270989e+02  115.711927   \n",
       "boro[T.Queens]                 32.993674  2.979932e+01   28.553233   \n",
       "boro[T.Staten Island]          -3.630251 -7.542656e+00  -15.640961   \n",
       "sq_ft                           0.000210  2.077865e-04    0.000096   \n",
       "sq_ft:boro[T.Brooklyn]               NaN           NaN   -0.000041   \n",
       "sq_ft:boro[T.Manhattan]              NaN           NaN    0.000084   \n",
       "sq_ft:boro[T.Queens]                 NaN           NaN   -0.000064   \n",
       "sq_ft:boro[T.Staten Island]          NaN           NaN   -0.000017   \n",
       "sq_ft:type[T.R4-CONDOMINIUM]         NaN           NaN         NaN   \n",
       "sq_ft:type[T.R9-CONDOMINIUM]         NaN           NaN         NaN   \n",
       "sq_ft:type[T.RR-CONDOMINIUM]         NaN           NaN         NaN   \n",
       "type[T.R4-CONDOMINIUM]               NaN           NaN   19.185899   \n",
       "type[T.R9-CONDOMINIUM]               NaN           NaN    0.702320   \n",
       "type[T.RR-CONDOMINIUM]               NaN           NaN  -14.507110   \n",
       "units                          -0.188115 -1.478411e-01   -0.105444   \n",
       "units:sq_ft                          NaN -2.255855e-08         NaN   \n",
       "\n",
       "                                       3           4  \n",
       "Intercept                      42.925158   38.355879  \n",
       "boro[T.Brooklyn]               27.597639   28.230904  \n",
       "boro[T.Manhattan]             114.434920  126.801446  \n",
       "boro[T.Queens]                 27.068852   25.162108  \n",
       "boro[T.Staten Island]         -15.941330  -16.950990  \n",
       "sq_ft                          -0.000011         NaN  \n",
       "sq_ft:boro[T.Brooklyn]         -0.000032         NaN  \n",
       "sq_ft:boro[T.Manhattan]         0.000100         NaN  \n",
       "sq_ft:boro[T.Queens]           -0.000040         NaN  \n",
       "sq_ft:boro[T.Staten Island]    -0.000016         NaN  \n",
       "sq_ft:type[T.R4-CONDOMINIUM]    0.000085         NaN  \n",
       "sq_ft:type[T.R9-CONDOMINIUM]   -0.000008         NaN  \n",
       "sq_ft:type[T.RR-CONDOMINIUM]    0.000163         NaN  \n",
       "type[T.R4-CONDOMINIUM]         16.767570   20.457035  \n",
       "type[T.R9-CONDOMINIUM]          9.370081    1.293322  \n",
       "type[T.RR-CONDOMINIUM]        -29.584825  -11.680515  \n",
       "units                          -0.083371         NaN  \n",
       "units:sq_ft                          NaN         NaN  "
      ]
     },
     "execution_count": 19,
     "metadata": {},
     "output_type": "execute_result"
    }
   ],
   "source": [
    "pd.concat([house1.params, house2.params, house3.params, house4.params, house5.params], axis=1)"
   ]
  },
  {
   "cell_type": "code",
   "execution_count": 21,
   "metadata": {},
   "outputs": [],
   "source": [
    "mod_results = pd.concat([house1.params, house2.params, house3.params, house4.params, house5.params], axis=1).\\\n",
    "rename(columns=lambda x: 'house'+str(x+1)).\\\n",
    "reset_index().\\\n",
    "rename(columns={'index':'param'}).\\\n",
    "melt(id_vars='param', var_name='model', value_name='estimate')"
   ]
  },
  {
   "cell_type": "code",
   "execution_count": 22,
   "metadata": {
    "scrolled": true
   },
   "outputs": [
    {
     "data": {
      "text/html": [
       "<div>\n",
       "<style scoped>\n",
       "    .dataframe tbody tr th:only-of-type {\n",
       "        vertical-align: middle;\n",
       "    }\n",
       "\n",
       "    .dataframe tbody tr th {\n",
       "        vertical-align: top;\n",
       "    }\n",
       "\n",
       "    .dataframe thead th {\n",
       "        text-align: right;\n",
       "    }\n",
       "</style>\n",
       "<table border=\"1\" class=\"dataframe\">\n",
       "  <thead>\n",
       "    <tr style=\"text-align: right;\">\n",
       "      <th></th>\n",
       "      <th>param</th>\n",
       "      <th>model</th>\n",
       "      <th>estimate</th>\n",
       "    </tr>\n",
       "  </thead>\n",
       "  <tbody>\n",
       "    <tr>\n",
       "      <th>0</th>\n",
       "      <td>Intercept</td>\n",
       "      <td>house1</td>\n",
       "      <td>43.290863</td>\n",
       "    </tr>\n",
       "    <tr>\n",
       "      <th>1</th>\n",
       "      <td>boro[T.Brooklyn]</td>\n",
       "      <td>house1</td>\n",
       "      <td>34.562150</td>\n",
       "    </tr>\n",
       "    <tr>\n",
       "      <th>2</th>\n",
       "      <td>boro[T.Manhattan]</td>\n",
       "      <td>house1</td>\n",
       "      <td>130.992363</td>\n",
       "    </tr>\n",
       "    <tr>\n",
       "      <th>3</th>\n",
       "      <td>boro[T.Queens]</td>\n",
       "      <td>house1</td>\n",
       "      <td>32.993674</td>\n",
       "    </tr>\n",
       "    <tr>\n",
       "      <th>4</th>\n",
       "      <td>boro[T.Staten Island]</td>\n",
       "      <td>house1</td>\n",
       "      <td>-3.630251</td>\n",
       "    </tr>\n",
       "  </tbody>\n",
       "</table>\n",
       "</div>"
      ],
      "text/plain": [
       "                   param   model    estimate\n",
       "0              Intercept  house1   43.290863\n",
       "1       boro[T.Brooklyn]  house1   34.562150\n",
       "2      boro[T.Manhattan]  house1  130.992363\n",
       "3         boro[T.Queens]  house1   32.993674\n",
       "4  boro[T.Staten Island]  house1   -3.630251"
      ]
     },
     "execution_count": 22,
     "metadata": {},
     "output_type": "execute_result"
    }
   ],
   "source": [
    "mod_results.head()"
   ]
  },
  {
   "cell_type": "code",
   "execution_count": 23,
   "metadata": {},
   "outputs": [
    {
     "data": {
      "image/png": "[encoded data removed]",
      "text/plain": [
       "<matplotlib.figure.Figure at 0x7f7cb3b366d8>"
      ]
     },
     "metadata": {},
     "output_type": "display_data"
    }
   ],
   "source": [
    "sns.pointplot(x='estimate', y='param', hue='model',data=mod_results,dodge=True,join=False)\n",
    "plt.tight_layout()"
   ]
  },
  {
   "cell_type": "code",
   "execution_count": 25,
   "metadata": {},
   "outputs": [],
   "source": [
    "model_names=  ['house1','house2','house3','house4','house5']"
   ]
  },
  {
   "cell_type": "code",
   "execution_count": 26,
   "metadata": {},
   "outputs": [
    {
     "name": "stderr",
     "output_type": "stream",
     "text": [
      "/home/farid/.local/lib/python3.6/site-packages/scipy/stats/_distn_infrastructure.py:879: RuntimeWarning: invalid value encountered in greater\n",
      "  return (self.a < x) & (x < self.b)\n",
      "/home/farid/.local/lib/python3.6/site-packages/scipy/stats/_distn_infrastructure.py:879: RuntimeWarning: invalid value encountered in less\n",
      "  return (self.a < x) & (x < self.b)\n",
      "/home/farid/.local/lib/python3.6/site-packages/scipy/stats/_distn_infrastructure.py:1821: RuntimeWarning: invalid value encountered in less_equal\n",
      "  cond2 = cond0 & (x <= self.a)\n"
     ]
    }
   ],
   "source": [
    "house_anova = sm.stats.anova_lm(house1, house2, house3, house4, house5)"
   ]
  },
  {
   "cell_type": "code",
   "execution_count": 27,
   "metadata": {},
   "outputs": [
    {
     "data": {
      "text/html": [
       "<div>\n",
       "<style scoped>\n",
       "    .dataframe tbody tr th:only-of-type {\n",
       "        vertical-align: middle;\n",
       "    }\n",
       "\n",
       "    .dataframe tbody tr th {\n",
       "        vertical-align: top;\n",
       "    }\n",
       "\n",
       "    .dataframe thead th {\n",
       "        text-align: right;\n",
       "    }\n",
       "</style>\n",
       "<table border=\"1\" class=\"dataframe\">\n",
       "  <thead>\n",
       "    <tr style=\"text-align: right;\">\n",
       "      <th></th>\n",
       "      <th>df_resid</th>\n",
       "      <th>ssr</th>\n",
       "      <th>df_diff</th>\n",
       "      <th>ss_diff</th>\n",
       "      <th>F</th>\n",
       "      <th>Pr(&gt;F)</th>\n",
       "    </tr>\n",
       "  </thead>\n",
       "  <tbody>\n",
       "    <tr>\n",
       "      <th>0</th>\n",
       "      <td>2619.0</td>\n",
       "      <td>4.922389e+06</td>\n",
       "      <td>0.0</td>\n",
       "      <td>NaN</td>\n",
       "      <td>NaN</td>\n",
       "      <td>NaN</td>\n",
       "    </tr>\n",
       "    <tr>\n",
       "      <th>1</th>\n",
       "      <td>2618.0</td>\n",
       "      <td>4.884872e+06</td>\n",
       "      <td>1.0</td>\n",
       "      <td>37517.437605</td>\n",
       "      <td>20.039049</td>\n",
       "      <td>7.912333e-06</td>\n",
       "    </tr>\n",
       "    <tr>\n",
       "      <th>2</th>\n",
       "      <td>2612.0</td>\n",
       "      <td>4.619926e+06</td>\n",
       "      <td>6.0</td>\n",
       "      <td>264945.539994</td>\n",
       "      <td>23.585728</td>\n",
       "      <td>2.754431e-27</td>\n",
       "    </tr>\n",
       "    <tr>\n",
       "      <th>3</th>\n",
       "      <td>2609.0</td>\n",
       "      <td>4.576671e+06</td>\n",
       "      <td>3.0</td>\n",
       "      <td>43255.441192</td>\n",
       "      <td>7.701289</td>\n",
       "      <td>4.025581e-05</td>\n",
       "    </tr>\n",
       "    <tr>\n",
       "      <th>4</th>\n",
       "      <td>2618.0</td>\n",
       "      <td>4.901463e+06</td>\n",
       "      <td>-9.0</td>\n",
       "      <td>-324791.847907</td>\n",
       "      <td>19.275539</td>\n",
       "      <td>NaN</td>\n",
       "    </tr>\n",
       "  </tbody>\n",
       "</table>\n",
       "</div>"
      ],
      "text/plain": [
       "   df_resid           ssr  df_diff        ss_diff          F        Pr(>F)\n",
       "0    2619.0  4.922389e+06      0.0            NaN        NaN           NaN\n",
       "1    2618.0  4.884872e+06      1.0   37517.437605  20.039049  7.912333e-06\n",
       "2    2612.0  4.619926e+06      6.0  264945.539994  23.585728  2.754431e-27\n",
       "3    2609.0  4.576671e+06      3.0   43255.441192   7.701289  4.025581e-05\n",
       "4    2618.0  4.901463e+06     -9.0 -324791.847907  19.275539           NaN"
      ]
     },
     "execution_count": 27,
     "metadata": {},
     "output_type": "execute_result"
    }
   ],
   "source": [
    "house_anova"
   ]
  },
  {
   "cell_type": "code",
   "execution_count": 28,
   "metadata": {},
   "outputs": [],
   "source": [
    "house_anova.index = model_names"
   ]
  },
  {
   "cell_type": "code",
   "execution_count": 29,
   "metadata": {},
   "outputs": [
    {
     "data": {
      "text/html": [
       "<div>\n",
       "<style scoped>\n",
       "    .dataframe tbody tr th:only-of-type {\n",
       "        vertical-align: middle;\n",
       "    }\n",
       "\n",
       "    .dataframe tbody tr th {\n",
       "        vertical-align: top;\n",
       "    }\n",
       "\n",
       "    .dataframe thead th {\n",
       "        text-align: right;\n",
       "    }\n",
       "</style>\n",
       "<table border=\"1\" class=\"dataframe\">\n",
       "  <thead>\n",
       "    <tr style=\"text-align: right;\">\n",
       "      <th></th>\n",
       "      <th>df_resid</th>\n",
       "      <th>ssr</th>\n",
       "      <th>df_diff</th>\n",
       "      <th>ss_diff</th>\n",
       "      <th>F</th>\n",
       "      <th>Pr(&gt;F)</th>\n",
       "    </tr>\n",
       "  </thead>\n",
       "  <tbody>\n",
       "    <tr>\n",
       "      <th>house1</th>\n",
       "      <td>2619.0</td>\n",
       "      <td>4.922389e+06</td>\n",
       "      <td>0.0</td>\n",
       "      <td>NaN</td>\n",
       "      <td>NaN</td>\n",
       "      <td>NaN</td>\n",
       "    </tr>\n",
       "    <tr>\n",
       "      <th>house2</th>\n",
       "      <td>2618.0</td>\n",
       "      <td>4.884872e+06</td>\n",
       "      <td>1.0</td>\n",
       "      <td>37517.437605</td>\n",
       "      <td>20.039049</td>\n",
       "      <td>7.912333e-06</td>\n",
       "    </tr>\n",
       "    <tr>\n",
       "      <th>house3</th>\n",
       "      <td>2612.0</td>\n",
       "      <td>4.619926e+06</td>\n",
       "      <td>6.0</td>\n",
       "      <td>264945.539994</td>\n",
       "      <td>23.585728</td>\n",
       "      <td>2.754431e-27</td>\n",
       "    </tr>\n",
       "    <tr>\n",
       "      <th>house4</th>\n",
       "      <td>2609.0</td>\n",
       "      <td>4.576671e+06</td>\n",
       "      <td>3.0</td>\n",
       "      <td>43255.441192</td>\n",
       "      <td>7.701289</td>\n",
       "      <td>4.025581e-05</td>\n",
       "    </tr>\n",
       "    <tr>\n",
       "      <th>house5</th>\n",
       "      <td>2618.0</td>\n",
       "      <td>4.901463e+06</td>\n",
       "      <td>-9.0</td>\n",
       "      <td>-324791.847907</td>\n",
       "      <td>19.275539</td>\n",
       "      <td>NaN</td>\n",
       "    </tr>\n",
       "  </tbody>\n",
       "</table>\n",
       "</div>"
      ],
      "text/plain": [
       "        df_resid           ssr  df_diff        ss_diff          F  \\\n",
       "house1    2619.0  4.922389e+06      0.0            NaN        NaN   \n",
       "house2    2618.0  4.884872e+06      1.0   37517.437605  20.039049   \n",
       "house3    2612.0  4.619926e+06      6.0  264945.539994  23.585728   \n",
       "house4    2609.0  4.576671e+06      3.0   43255.441192   7.701289   \n",
       "house5    2618.0  4.901463e+06     -9.0 -324791.847907  19.275539   \n",
       "\n",
       "              Pr(>F)  \n",
       "house1           NaN  \n",
       "house2  7.912333e-06  \n",
       "house3  2.754431e-27  \n",
       "house4  4.025581e-05  \n",
       "house5           NaN  "
      ]
     },
     "execution_count": 29,
     "metadata": {},
     "output_type": "execute_result"
    }
   ],
   "source": [
    "house_anova"
   ]
  },
  {
   "cell_type": "code",
   "execution_count": 35,
   "metadata": {},
   "outputs": [],
   "source": [
    "from sklearn.model_selection import train_test_split\n",
    "from sklearn.linear_model import LinearRegression"
   ]
  },
  {
   "cell_type": "code",
   "execution_count": 36,
   "metadata": {},
   "outputs": [],
   "source": [
    "X_train, X_test, y_train, y_test = train_test_split(\n",
    "pd.get_dummies(housing[['units','sq_ft','boro']], drop_first=True),\n",
    "housing['value_per_sq_ft'],\n",
    "test_size=0.2,\n",
    "random_state=42)"
   ]
  },
  {
   "cell_type": "code",
   "execution_count": 38,
   "metadata": {},
   "outputs": [
    {
     "data": {
      "text/plain": [
       "((2100, 6), (526, 6), (2100,), (526,))"
      ]
     },
     "execution_count": 38,
     "metadata": {},
     "output_type": "execute_result"
    }
   ],
   "source": [
    "X_train.shape,X_test.shape, y_train.shape, y_test.shape"
   ]
  },
  {
   "cell_type": "code",
   "execution_count": 39,
   "metadata": {},
   "outputs": [],
   "source": [
    "lr = LinearRegression().fit(X_train, y_train)"
   ]
  },
  {
   "cell_type": "code",
   "execution_count": 40,
   "metadata": {},
   "outputs": [
    {
     "data": {
      "text/plain": [
       "0.6137125285030869"
      ]
     },
     "execution_count": 40,
     "metadata": {},
     "output_type": "execute_result"
    }
   ],
   "source": [
    "lr.score(X_test, y_test)"
   ]
  },
  {
   "cell_type": "code",
   "execution_count": 41,
   "metadata": {},
   "outputs": [],
   "source": [
    "from patsy import dmatrices"
   ]
  },
  {
   "cell_type": "code",
   "execution_count": 44,
   "metadata": {},
   "outputs": [],
   "source": [
    "y, X =dmatrices('value_per_sq_ft ~ units + sq_ft + boro',housing,return_type=\"dataframe\")\n",
    "X_train, X_test, y_train, y_test = train_test_split(X,y,test_size=0.2,random_state=42)"
   ]
  },
  {
   "cell_type": "code",
   "execution_count": 45,
   "metadata": {},
   "outputs": [
    {
     "data": {
      "text/plain": [
       "0.6137125285026593"
      ]
     },
     "execution_count": 45,
     "metadata": {},
     "output_type": "execute_result"
    }
   ],
   "source": [
    "lr = LinearRegression().fit(X_train, y_train)\n",
    "lr.score(X_test, y_test)"
   ]
  },
  {
   "cell_type": "code",
   "execution_count": 46,
   "metadata": {},
   "outputs": [],
   "source": [
    "from sklearn.model_selection import KFold, cross_val_score"
   ]
  },
  {
   "cell_type": "code",
   "execution_count": 47,
   "metadata": {},
   "outputs": [],
   "source": [
    "housing = pd.read_csv('./housing_renamed.csv')\n"
   ]
  },
  {
   "cell_type": "code",
   "execution_count": 48,
   "metadata": {},
   "outputs": [],
   "source": [
    "kf = KFold(n_splits=5)\n",
    "y,X = dmatrices('value_per_sq_ft ~ units + sq_ft + boro',housing)\n",
    "\n",
    "coefs =[]\n",
    "scores=[]\n",
    "\n",
    "for train, test in kf.split(X):\n",
    "    X_train, X_test = X[train], X[test]\n",
    "    y_train, y_test = y[train], y[test]\n",
    "    lr = LinearRegression().fit(X_train,y_train)\n",
    "    coefs.append(pd.DataFrame(lr.coef_))\n",
    "    scores.append(lr.score(X_test,y_test))"
   ]
  },
  {
   "cell_type": "code",
   "execution_count": 49,
   "metadata": {},
   "outputs": [
    {
     "data": {
      "text/plain": [
       "5"
      ]
     },
     "execution_count": 49,
     "metadata": {},
     "output_type": "execute_result"
    }
   ],
   "source": [
    "len(scores)"
   ]
  },
  {
   "cell_type": "code",
   "execution_count": 50,
   "metadata": {},
   "outputs": [
    {
     "data": {
      "text/html": [
       "<div>\n",
       "<style scoped>\n",
       "    .dataframe tbody tr th:only-of-type {\n",
       "        vertical-align: middle;\n",
       "    }\n",
       "\n",
       "    .dataframe tbody tr th {\n",
       "        vertical-align: top;\n",
       "    }\n",
       "\n",
       "    .dataframe thead th {\n",
       "        text-align: right;\n",
       "    }\n",
       "</style>\n",
       "<table border=\"1\" class=\"dataframe\">\n",
       "  <thead>\n",
       "    <tr style=\"text-align: right;\">\n",
       "      <th></th>\n",
       "      <th>Intercept</th>\n",
       "      <th>boro[T.Brooklyn]</th>\n",
       "      <th>boro[T.Manhattan]</th>\n",
       "      <th>boro[T.Queens]</th>\n",
       "      <th>boro[T.Staten Island]</th>\n",
       "      <th>units</th>\n",
       "      <th>sq_ft</th>\n",
       "    </tr>\n",
       "  </thead>\n",
       "  <tbody>\n",
       "    <tr>\n",
       "      <th>0</th>\n",
       "      <td>0.0</td>\n",
       "      <td>33.369037</td>\n",
       "      <td>129.904011</td>\n",
       "      <td>32.103100</td>\n",
       "      <td>-4.381085e+00</td>\n",
       "      <td>-0.205890</td>\n",
       "      <td>0.000220</td>\n",
       "    </tr>\n",
       "    <tr>\n",
       "      <th>0</th>\n",
       "      <td>0.0</td>\n",
       "      <td>32.889925</td>\n",
       "      <td>116.957385</td>\n",
       "      <td>31.295956</td>\n",
       "      <td>-4.919232e+00</td>\n",
       "      <td>-0.146180</td>\n",
       "      <td>0.000155</td>\n",
       "    </tr>\n",
       "    <tr>\n",
       "      <th>0</th>\n",
       "      <td>0.0</td>\n",
       "      <td>30.975560</td>\n",
       "      <td>141.859327</td>\n",
       "      <td>32.043449</td>\n",
       "      <td>-4.379916e+00</td>\n",
       "      <td>-0.179671</td>\n",
       "      <td>0.000194</td>\n",
       "    </tr>\n",
       "    <tr>\n",
       "      <th>0</th>\n",
       "      <td>0.0</td>\n",
       "      <td>41.449196</td>\n",
       "      <td>130.779013</td>\n",
       "      <td>33.050968</td>\n",
       "      <td>-3.430209e+00</td>\n",
       "      <td>-0.207904</td>\n",
       "      <td>0.000232</td>\n",
       "    </tr>\n",
       "    <tr>\n",
       "      <th>0</th>\n",
       "      <td>0.0</td>\n",
       "      <td>-38.511915</td>\n",
       "      <td>56.069855</td>\n",
       "      <td>-17.557939</td>\n",
       "      <td>3.552714e-15</td>\n",
       "      <td>-0.145829</td>\n",
       "      <td>0.000202</td>\n",
       "    </tr>\n",
       "  </tbody>\n",
       "</table>\n",
       "</div>"
      ],
      "text/plain": [
       "   Intercept  boro[T.Brooklyn]  boro[T.Manhattan]  boro[T.Queens]  \\\n",
       "0        0.0         33.369037         129.904011       32.103100   \n",
       "0        0.0         32.889925         116.957385       31.295956   \n",
       "0        0.0         30.975560         141.859327       32.043449   \n",
       "0        0.0         41.449196         130.779013       33.050968   \n",
       "0        0.0        -38.511915          56.069855      -17.557939   \n",
       "\n",
       "   boro[T.Staten Island]     units     sq_ft  \n",
       "0          -4.381085e+00 -0.205890  0.000220  \n",
       "0          -4.919232e+00 -0.146180  0.000155  \n",
       "0          -4.379916e+00 -0.179671  0.000194  \n",
       "0          -3.430209e+00 -0.207904  0.000232  \n",
       "0           3.552714e-15 -0.145829  0.000202  "
      ]
     },
     "execution_count": 50,
     "metadata": {},
     "output_type": "execute_result"
    }
   ],
   "source": [
    "coefs_df= pd.concat(coefs)\n",
    "coefs_df.columns = X.design_info.column_names\n",
    "coefs_df"
   ]
  },
  {
   "cell_type": "code",
   "execution_count": 52,
   "metadata": {},
   "outputs": [
    {
     "data": {
      "text/plain": [
       "Intercept                  0.000000\n",
       "boro[T.Brooklyn]          20.034361\n",
       "boro[T.Manhattan]        115.113918\n",
       "boro[T.Queens]            22.187107\n",
       "boro[T.Staten Island]     -3.422088\n",
       "units                     -0.177095\n",
       "sq_ft                      0.000201\n",
       "dtype: float64"
      ]
     },
     "execution_count": 52,
     "metadata": {},
     "output_type": "execute_result"
    }
   ],
   "source": [
    "import numpy as np\n",
    "coefs_df.apply(np.mean)"
   ]
  },
  {
   "cell_type": "code",
   "execution_count": 53,
   "metadata": {},
   "outputs": [
    {
     "data": {
      "text/plain": [
       "[0.027314162909386815,\n",
       " -0.5538362212297154,\n",
       " -0.15636371688032624,\n",
       " -0.32342020618618794,\n",
       " -1.6929655586870154]"
      ]
     },
     "execution_count": 53,
     "metadata": {},
     "output_type": "execute_result"
    }
   ],
   "source": [
    "scores"
   ]
  },
  {
   "cell_type": "code",
   "execution_count": 54,
   "metadata": {},
   "outputs": [
    {
     "data": {
      "text/plain": [
       "array([ 0.02731416, -0.55383622, -0.15636372, -0.32342021, -1.69296556])"
      ]
     },
     "execution_count": 54,
     "metadata": {},
     "output_type": "execute_result"
    }
   ],
   "source": [
    "model = LinearRegression()\n",
    "scores = cross_val_score(model, X, y, cv=5)\n",
    "scores"
   ]
  },
  {
   "cell_type": "code",
   "execution_count": 64,
   "metadata": {},
   "outputs": [],
   "source": [
    "y1, X1 = dmatrices('value_per_sq_ft ~ units + sq_ft + boro',housing)\n",
    "y2, X2 = dmatrices('value_per_sq_ft ~ units * sq_ft + boro',housing)\n",
    "y3, X3 = dmatrices('value_per_sq_ft ~ units + sq_ft * boro + type',housing)\n",
    "y4, X4 = dmatrices('value_per_sq_ft ~ units + sq_ft * boro + sq_ft * type ',housing)\n",
    "y5, X5 = dmatrices('value_per_sq_ft ~ boro + type',housing)\n",
    "model =LinearRegression()\n",
    "scores1 = cross_val_score(model, X1, y1, cv=5)\n",
    "scores2 = cross_val_score(model, X2, y2, cv=5)\n",
    "scores3 = cross_val_score(model, X3, y3, cv=5)\n",
    "scores4 = cross_val_score(model, X4, y4, cv=5)\n",
    "scores5 = cross_val_score(model, X5, y5, cv=5)"
   ]
  },
  {
   "cell_type": "code",
   "execution_count": 65,
   "metadata": {},
   "outputs": [
    {
     "data": {
      "text/plain": [
       "array([ 0.02731416, -0.55383622, -0.15636372, -0.32342021, -1.69296556])"
      ]
     },
     "execution_count": 65,
     "metadata": {},
     "output_type": "execute_result"
    }
   ],
   "source": [
    "scores1"
   ]
  },
  {
   "cell_type": "code",
   "execution_count": 66,
   "metadata": {},
   "outputs": [],
   "source": [
    "scores_df = pd.DataFrame([scores1,scores2,scores3,scores4,scores5])"
   ]
  },
  {
   "cell_type": "code",
   "execution_count": 67,
   "metadata": {},
   "outputs": [
    {
     "data": {
      "text/plain": [
       "0   -5.398543e-01\n",
       "1   -1.088184e+00\n",
       "2   -4.366349e+26\n",
       "3   -5.258585e+26\n",
       "4   -2.370174e+24\n",
       "dtype: float64"
      ]
     },
     "execution_count": 67,
     "metadata": {},
     "output_type": "execute_result"
    }
   ],
   "source": [
    "scores_df.apply(np.mean, axis=1)"
   ]
  },
  {
   "cell_type": "code",
   "execution_count": null,
   "metadata": {},
   "outputs": [],
   "source": []
  }
 ],
 "metadata": {
  "kernelspec": {
   "display_name": "Python 3",
   "language": "python",
   "name": "python3"
  },
  "language_info": {
   "codemirror_mode": {
    "name": "ipython",
    "version": 3
   },
   "file_extension": ".py",
   "mimetype": "text/x-python",
   "name": "python",
   "nbconvert_exporter": "python",
   "pygments_lexer": "ipython3",
   "version": "3.6.3"
  }
 },
 "nbformat": 4,
 "nbformat_minor": 2
}
